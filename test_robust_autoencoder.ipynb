{
 "cells": [
  {
   "cell_type": "code",
   "execution_count": 2,
   "metadata": {},
   "outputs": [
    {
     "name": "stderr",
     "output_type": "stream",
     "text": [
      "Using TensorFlow backend.\n"
     ]
    }
   ],
   "source": [
    "import robust_autoencoder"
   ]
  },
  {
   "cell_type": "code",
   "execution_count": 3,
   "metadata": {},
   "outputs": [],
   "source": [
    "# initial parmas\n",
    "train_jsons = []\n",
    "dev_jsons = []\n",
    "tran_json_prefix = ['train_','train_recon']\n",
    "dev_json_prefix = ['dev_','dev_recon']\n",
    "params = {\n",
    "    'data_json': \"examples/cinc17/train.json\",\n",
    "    'dev_json': \"examples/cinc17/dev.json\",\n",
    "    'des_snr' : 20,\n",
    "    'noisy_type': 4,\n",
    "    'train_type': 1, #0: clean-clean 1: noisy-clean 2: noisy-noisy\n",
    "    'loss': 'mcc',\n",
    "    'MAX_EPOCHS': 80,\n",
    "    'batch_size': 32,\n",
    "    'input_size': 256,\n",
    "    'hidden_size': 64,\n",
    "    'lr': 0.01,\n",
    "    'lambda_w': 4e-5\n",
    "         }\n",
    "# update file path based on params\n",
    "params['model_name'] = 'autoencoder_model/'+'train'+ str(params['train_type'])+'_'+params['loss'] + '_autoencoder.h5'\n",
    "params['store_data_folder'] = 'examples/cinc17/mcc_transformed/'\n",
    "params['experiment_name'] = 'noisy'+str(params['noisy_type'])+'_db'+str(params['des_snr'])+'_'+params['loss']\n",
    "params['store_json'] = 'examples/cinc17/'+params['experiment_name']\n",
    "for t,d in zip(tran_json_prefix, dev_json_prefix):\n",
    "    train_jsons.append(params['store_json'] + t +'.json')\n",
    "    dev_jsons.append(params['store_json'] + t +'.json')"
   ]
  },
  {
   "cell_type": "code",
   "execution_count": 3,
   "metadata": {},
   "outputs": [
    {
     "name": "stderr",
     "output_type": "stream",
     "text": [
      "100%|██████████| 7676/7676 [00:01<00:00, 3896.80it/s]\n",
      "100%|██████████| 852/852 [00:00<00:00, 3413.75it/s]\n"
     ]
    },
    {
     "name": "stdout",
     "output_type": "stream",
     "text": [
      "WARNING:tensorflow:From /Users/ningxin/opt/anaconda3/lib/python3.7/site-packages/tensorflow_core/python/ops/resource_variable_ops.py:1630: calling BaseResourceVariable.__init__ (from tensorflow.python.ops.resource_variable_ops) with constraint is deprecated and will be removed in a future version.\n",
      "Instructions for updating:\n",
      "If using Keras pass *_constraint arguments to layers.\n",
      "WARNING:tensorflow:From /Users/ningxin/opt/anaconda3/lib/python3.7/site-packages/tensorflow_core/python/ops/math_grad.py:1375: where (from tensorflow.python.ops.array_ops) is deprecated and will be removed in a future version.\n",
      "Instructions for updating:\n",
      "Use tf.where in 2.0, which has the same broadcast rule as np.where\n",
      "WARNING:tensorflow:From /Users/ningxin/opt/anaconda3/lib/python3.7/site-packages/keras/backend/tensorflow_backend.py:422: The name tf.global_variables is deprecated. Please use tf.compat.v1.global_variables instead.\n",
      "\n",
      "Train on 290368 samples, validate on 32315 samples\n",
      "Epoch 1/50\n",
      "290368/290368 [==============================] - 17s 57us/step - loss: -1.8904 - val_loss: -1.9349\n",
      "Epoch 2/50\n",
      "290368/290368 [==============================] - 16s 56us/step - loss: -1.9388 - val_loss: -1.9401\n",
      "Epoch 3/50\n",
      "290368/290368 [==============================] - 16s 56us/step - loss: -1.9432 - val_loss: -1.9451\n",
      "Epoch 4/50\n",
      "290368/290368 [==============================] - 17s 60us/step - loss: -1.9443 - val_loss: -1.9453\n",
      "Epoch 5/50\n",
      "290368/290368 [==============================] - 15s 51us/step - loss: -1.9451 - val_loss: -1.9449\n",
      "Epoch 6/50\n",
      "290368/290368 [==============================] - 16s 55us/step - loss: -1.9455 - val_loss: -1.9422\n",
      "Epoch 7/50\n",
      "290368/290368 [==============================] - 17s 59us/step - loss: -1.9457 - val_loss: -1.9462\n",
      "Epoch 8/50\n",
      "290368/290368 [==============================] - 16s 54us/step - loss: -1.9458 - val_loss: -1.9463\n",
      "Epoch 9/50\n",
      "290368/290368 [==============================] - 17s 59us/step - loss: -1.9458 - val_loss: -1.9466\n",
      "Epoch 10/50\n",
      "290368/290368 [==============================] - 18s 61us/step - loss: -1.9458 - val_loss: -1.9470\n",
      "Epoch 11/50\n",
      "290368/290368 [==============================] - 17s 57us/step - loss: -1.9459 - val_loss: -1.9466\n",
      "Epoch 12/50\n",
      "290368/290368 [==============================] - 17s 60us/step - loss: -1.9459 - val_loss: -1.9453\n",
      "Epoch 13/50\n",
      "290368/290368 [==============================] - 20s 68us/step - loss: -1.9460 - val_loss: -1.9469\n",
      "Epoch 14/50\n",
      "290368/290368 [==============================] - 19s 65us/step - loss: -1.9460 - val_loss: -1.9473\n",
      "Epoch 15/50\n",
      "290368/290368 [==============================] - 19s 65us/step - loss: -1.9460 - val_loss: -1.9462\n",
      "Epoch 16/50\n",
      "290368/290368 [==============================] - 18s 63us/step - loss: -1.9463 - val_loss: -1.9474\n",
      "Epoch 17/50\n",
      "290368/290368 [==============================] - 16s 57us/step - loss: -1.9465 - val_loss: -1.9450\n",
      "Epoch 18/50\n",
      "290368/290368 [==============================] - 21s 73us/step - loss: -1.9465 - val_loss: -1.9471\n",
      "Epoch 19/50\n",
      "290368/290368 [==============================] - 22s 75us/step - loss: -1.9466 - val_loss: -1.9472\n",
      "Epoch 20/50\n",
      "290368/290368 [==============================] - 21s 71us/step - loss: -1.9466 - val_loss: -1.9478\n",
      "Epoch 21/50\n",
      "290368/290368 [==============================] - 21s 71us/step - loss: -1.9465 - val_loss: -1.9479\n",
      "Epoch 22/50\n",
      "290368/290368 [==============================] - 22s 77us/step - loss: -1.9466 - val_loss: -1.9476\n",
      "Epoch 23/50\n",
      "290368/290368 [==============================] - 23s 78us/step - loss: -1.9466 - val_loss: -1.9475\n",
      "Epoch 24/50\n",
      "290368/290368 [==============================] - 22s 75us/step - loss: -1.9466 - val_loss: -1.9480\n",
      "Epoch 25/50\n",
      "290368/290368 [==============================] - 21s 73us/step - loss: -1.9467 - val_loss: -1.9475\n",
      "Epoch 26/50\n",
      "290368/290368 [==============================] - 20s 70us/step - loss: -1.9466 - val_loss: -1.9472\n",
      "Epoch 27/50\n",
      "290368/290368 [==============================] - 27s 95us/step - loss: -1.9494 - val_loss: -1.9494\n",
      "Epoch 28/50\n",
      "290368/290368 [==============================] - 24s 83us/step - loss: -1.9495 - val_loss: -1.9487\n",
      "Epoch 29/50\n",
      "290368/290368 [==============================] - 20s 70us/step - loss: -1.9496 - val_loss: -1.9499\n",
      "Epoch 30/50\n",
      "290368/290368 [==============================] - 22s 74us/step - loss: -1.9496 - val_loss: -1.9497\n",
      "Epoch 31/50\n",
      "290368/290368 [==============================] - 24s 83us/step - loss: -1.9496 - val_loss: -1.9500\n",
      "Epoch 32/50\n",
      "290368/290368 [==============================] - 21s 73us/step - loss: -1.9496 - val_loss: -1.9500\n",
      "Epoch 33/50\n",
      "290368/290368 [==============================] - 18s 63us/step - loss: -1.9496 - val_loss: -1.9498\n",
      "Epoch 34/50\n",
      "290368/290368 [==============================] - 22s 76us/step - loss: -1.9496 - val_loss: -1.9500\n",
      "Epoch 35/50\n",
      "290368/290368 [==============================] - 19s 66us/step - loss: -1.9496 - val_loss: -1.9501\n",
      "Epoch 36/50\n",
      "290368/290368 [==============================] - 20s 69us/step - loss: -1.9497 - val_loss: -1.9500\n",
      "Epoch 37/50\n",
      "290368/290368 [==============================] - 22s 75us/step - loss: -1.9501 - val_loss: -1.9503\n",
      "Epoch 38/50\n",
      "290368/290368 [==============================] - 22s 75us/step - loss: -1.9501 - val_loss: -1.9504\n",
      "Epoch 39/50\n",
      "290368/290368 [==============================] - 21s 71us/step - loss: -1.9501 - val_loss: -1.9503\n",
      "Epoch 40/50\n",
      "290368/290368 [==============================] - 19s 66us/step - loss: -1.9501 - val_loss: -1.9503\n",
      "Epoch 41/50\n",
      "290368/290368 [==============================] - 21s 71us/step - loss: -1.9501 - val_loss: -1.9504\n",
      "Epoch 42/50\n",
      "290368/290368 [==============================] - 22s 75us/step - loss: -1.9501 - val_loss: -1.9504\n",
      "Epoch 43/50\n",
      "290368/290368 [==============================] - 24s 82us/step - loss: -1.9501 - val_loss: -1.9504\n",
      "Epoch 44/50\n",
      "290368/290368 [==============================] - 27s 93us/step - loss: -1.9501 - val_loss: -1.9504\n",
      "Epoch 45/50\n",
      "290368/290368 [==============================] - 19s 65us/step - loss: -1.9501 - val_loss: -1.9504\n",
      "Epoch 00045: early stopping\n"
     ]
    }
   ],
   "source": [
    "\n",
    "# load origin data\n",
    "encoder = robust_autoencoder.RobustAutoencoder()\n",
    "encoder.train_scaled = encoder.load_dataset(params['data_json'])#train[0]: ecg_data train[1]: labels \n",
    "encoder.dev_scaled = encoder.load_dataset(params['dev_json'])\n",
    "\n",
    "# scale the data\n",
    "encoder.train_scaled, _, _ = encoder.scale_input(encoder.train_scaled[0])\n",
    "encoder.dev_scaled, _, _ = encoder.scale_input(encoder.dev_scaled[0])\n",
    "\n",
    "# add noisy\n",
    "encoder.train_noisy = encoder.add_noise_snr(encoder.train_scaled, des_snr=params['des_snr'], noise_type=params['noisy_type'])\n",
    "encoder.dev_noisy = encoder.add_noise_snr(encoder.dev_scaled, des_snr=params['des_snr'], noise_type=params['noisy_type'])\n",
    "\n",
    "# build autoencoder\n",
    "encoder.build_encoder(params)\n",
    "\n",
    "# train the autoencoder\n",
    "encoder.train_encoder(params)"
   ]
  },
  {
   "cell_type": "code",
   "execution_count": 5,
   "metadata": {},
   "outputs": [],
   "source": [
    "encoder.reconstruct(params)"
   ]
  },
  {
   "cell_type": "code",
   "execution_count": 4,
   "metadata": {},
   "outputs": [],
   "source": [
    "encoder = robust_autoencoder.RobustAutoencoder()"
   ]
  },
  {
   "cell_type": "code",
   "execution_count": 5,
   "metadata": {},
   "outputs": [],
   "source": [
    "%store -r"
   ]
  },
  {
   "cell_type": "code",
   "execution_count": 6,
   "metadata": {},
   "outputs": [
    {
     "name": "stdout",
     "output_type": "stream",
     "text": [
      "no stored variable or alias dev_noisy\n",
      "no stored variable or alias train_recon\n",
      "no stored variable or alias dev_recon\n"
     ]
    }
   ],
   "source": [
    "%store train_noisy\n",
    "%store dev_noisy\n",
    "%store train_recon\n",
    "%store dev_recon"
   ]
  },
  {
   "cell_type": "code",
   "execution_count": 6,
   "metadata": {},
   "outputs": [],
   "source": [
    "encoder.train_noisy = train_noisy\n",
    "encoder.dev_noisy = train_noisy\n",
    "encoder.train_recon = train_noisy\n",
    "encoder.dev_recon = train_noisy"
   ]
  },
  {
   "cell_type": "code",
   "execution_count": 7,
   "metadata": {},
   "outputs": [
    {
     "name": "stdout",
     "output_type": "stream",
     "text": [
      "WARNING:tensorflow:From /Users/ningxin/opt/anaconda3/lib/python3.7/site-packages/tensorflow_core/python/ops/resource_variable_ops.py:1630: calling BaseResourceVariable.__init__ (from tensorflow.python.ops.resource_variable_ops) with constraint is deprecated and will be removed in a future version.\n",
      "Instructions for updating:\n",
      "If using Keras pass *_constraint arguments to layers.\n",
      "WARNING:tensorflow:From /Users/ningxin/opt/anaconda3/lib/python3.7/site-packages/tensorflow_core/python/ops/math_grad.py:1375: where (from tensorflow.python.ops.array_ops) is deprecated and will be removed in a future version.\n",
      "Instructions for updating:\n",
      "Use tf.where in 2.0, which has the same broadcast rule as np.where\n",
      "WARNING:tensorflow:From /Users/ningxin/opt/anaconda3/lib/python3.7/site-packages/keras/backend/tensorflow_backend.py:422: The name tf.global_variables is deprecated. Please use tf.compat.v1.global_variables instead.\n",
      "\n"
     ]
    },
    {
     "name": "stderr",
     "output_type": "stream",
     "text": [
      "100%|██████████| 7676/7676 [00:02<00:00, 2675.75it/s]\n",
      "100%|██████████| 852/852 [00:00<00:00, 3977.61it/s]\n"
     ]
    },
    {
     "ename": "ValueError",
     "evalue": "cannot reshape array of size 7676 into shape (256)",
     "output_type": "error",
     "traceback": [
      "\u001b[0;31m---------------------------------------------------------------------------\u001b[0m",
      "\u001b[0;31mValueError\u001b[0m                                Traceback (most recent call last)",
      "\u001b[0;32m<ipython-input-7-5b187ef39c84>\u001b[0m in \u001b[0;36m<module>\u001b[0;34m\u001b[0m\n\u001b[0;32m----> 1\u001b[0;31m \u001b[0mencoder\u001b[0m\u001b[0;34m.\u001b[0m\u001b[0mstore_results\u001b[0m\u001b[0;34m(\u001b[0m\u001b[0mparams\u001b[0m\u001b[0;34m)\u001b[0m\u001b[0;34m\u001b[0m\u001b[0;34m\u001b[0m\u001b[0m\n\u001b[0m",
      "\u001b[0;32m~/Github/ecg_nm/robust_autoencoder.py\u001b[0m in \u001b[0;36mstore_results\u001b[0;34m(self, params)\u001b[0m\n\u001b[1;32m    447\u001b[0m                        self.train[2], self.train[1], 'dev_recon'+params['experiment_name'])  \n\u001b[1;32m    448\u001b[0m \u001b[0;34m\u001b[0m\u001b[0m\n\u001b[0;32m--> 449\u001b[0;31m         \u001b[0mself\u001b[0m\u001b[0;34m.\u001b[0m\u001b[0mtrain_trans\u001b[0m \u001b[0;34m=\u001b[0m \u001b[0mself\u001b[0m\u001b[0;34m.\u001b[0m\u001b[0mtransform\u001b[0m\u001b[0;34m(\u001b[0m\u001b[0mself\u001b[0m\u001b[0;34m.\u001b[0m\u001b[0mtrain\u001b[0m\u001b[0;34m,\u001b[0m \u001b[0msaved_model\u001b[0m\u001b[0;34m)\u001b[0m\u001b[0;34m\u001b[0m\u001b[0;34m\u001b[0m\u001b[0m\n\u001b[0m\u001b[1;32m    450\u001b[0m         \u001b[0mself\u001b[0m\u001b[0;34m.\u001b[0m\u001b[0mdev_trans\u001b[0m \u001b[0;34m=\u001b[0m \u001b[0mself\u001b[0m\u001b[0;34m.\u001b[0m\u001b[0mtransform\u001b[0m\u001b[0;34m(\u001b[0m\u001b[0mself\u001b[0m\u001b[0;34m.\u001b[0m\u001b[0mdev\u001b[0m\u001b[0;34m,\u001b[0m \u001b[0msaved_model\u001b[0m\u001b[0;34m)\u001b[0m\u001b[0;34m\u001b[0m\u001b[0;34m\u001b[0m\u001b[0m\n\u001b[1;32m    451\u001b[0m         \u001b[0;31m#save_transformed(path_origin_train_mcc, train_origin_mcc_transformed, train_path[2])\u001b[0m\u001b[0;34m\u001b[0m\u001b[0;34m\u001b[0m\u001b[0;34m\u001b[0m\u001b[0m\n",
      "\u001b[0;32m~/Github/ecg_nm/robust_autoencoder.py\u001b[0m in \u001b[0;36mtransform\u001b[0;34m(self, origin, model)\u001b[0m\n\u001b[1;32m    348\u001b[0m         \u001b[0;32mfor\u001b[0m \u001b[0mdata\u001b[0m \u001b[0;32min\u001b[0m \u001b[0morigin\u001b[0m\u001b[0;34m:\u001b[0m\u001b[0;34m\u001b[0m\u001b[0;34m\u001b[0m\u001b[0m\n\u001b[1;32m    349\u001b[0m             \u001b[0;31m# reshape and scale\u001b[0m\u001b[0;34m\u001b[0m\u001b[0;34m\u001b[0m\u001b[0;34m\u001b[0m\u001b[0m\n\u001b[0;32m--> 350\u001b[0;31m             \u001b[0mdata\u001b[0m \u001b[0;34m=\u001b[0m \u001b[0mdata\u001b[0m\u001b[0;34m.\u001b[0m\u001b[0mreshape\u001b[0m\u001b[0;34m(\u001b[0m\u001b[0;34m-\u001b[0m\u001b[0;36m1\u001b[0m\u001b[0;34m,\u001b[0m\u001b[0mSTEP\u001b[0m\u001b[0;34m)\u001b[0m\u001b[0;34m\u001b[0m\u001b[0;34m\u001b[0m\u001b[0m\n\u001b[0m\u001b[1;32m    351\u001b[0m             \u001b[0mdata_scaled\u001b[0m\u001b[0;34m,\u001b[0m \u001b[0mscales\u001b[0m\u001b[0;34m,\u001b[0m \u001b[0mbias\u001b[0m \u001b[0;34m=\u001b[0m \u001b[0mself\u001b[0m\u001b[0;34m.\u001b[0m\u001b[0mscale_input\u001b[0m\u001b[0;34m(\u001b[0m\u001b[0mdata\u001b[0m\u001b[0;34m)\u001b[0m\u001b[0;34m\u001b[0m\u001b[0;34m\u001b[0m\u001b[0m\n\u001b[1;32m    352\u001b[0m             \u001b[0;31m# model predict and scale back\u001b[0m\u001b[0;34m\u001b[0m\u001b[0;34m\u001b[0m\u001b[0;34m\u001b[0m\u001b[0m\n",
      "\u001b[0;31mValueError\u001b[0m: cannot reshape array of size 7676 into shape (256)"
     ]
    }
   ],
   "source": [
    "encoder.store_results(params)"
   ]
  }
 ],
 "metadata": {
  "kernelspec": {
   "display_name": "Python 3",
   "language": "python",
   "name": "python3"
  },
  "language_info": {
   "codemirror_mode": {
    "name": "ipython",
    "version": 3
   },
   "file_extension": ".py",
   "mimetype": "text/x-python",
   "name": "python",
   "nbconvert_exporter": "python",
   "pygments_lexer": "ipython3",
   "version": "3.7.4"
  }
 },
 "nbformat": 4,
 "nbformat_minor": 4
}
