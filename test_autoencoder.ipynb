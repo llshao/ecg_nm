{
 "cells": [
  {
   "cell_type": "markdown",
   "metadata": {},
   "source": [
    "REFS: https://www.dataquest.io/blog/jupyter-notebook-tips-tricks-shortcuts/"
   ]
  },
  {
   "cell_type": "code",
   "execution_count": 1,
   "metadata": {},
   "outputs": [
    {
     "name": "stderr",
     "output_type": "stream",
     "text": [
      "Using TensorFlow backend.\n"
     ]
    }
   ],
   "source": [
    "from __future__ import print_function\n",
    "from __future__ import division\n",
    "from __future__ import absolute_import\n",
    "\n",
    "import argparse\n",
    "import json\n",
    "import keras\n",
    "import numpy as np\n",
    "import os\n",
    "import random\n",
    "import time\n",
    "\n",
    "import robust_autoencoder\n",
    "\n",
    "def run_autoencoder(params, STORE=False):\n",
    "    encoder = robust_autoencoder.RobustAutoencoder()\n",
    "    encoder.train_scaled = encoder.load_dataset(params['data_json'])#train[0]: ecg_data train[1]: labels \n",
    "    encoder.dev_scaled = encoder.load_dataset(params['dev_json'])\n",
    "    \n",
    "    # scale the data\n",
    "    encoder.train_scaled, _, _ = encoder.scale_input(encoder.train_scaled[0])\n",
    "    encoder.dev_scaled, _, _ = encoder.scale_input(encoder.dev_scaled[0])\n",
    "    \n",
    "    # add noisy\n",
    "    encoder.train_noisy = encoder.add_noise_snr(encoder.train_scaled, des_snr=params['des_snr'], noise_type=params['noisy_type'])\n",
    "    encoder.dev_noisy = encoder.add_noise_snr(encoder.dev_scaled, des_snr=params['des_snr'], noise_type=params['noisy_type'])\n",
    "    \n",
    "    # build autoencoder\n",
    "    encoder.build_encoder(params)\n",
    "    \n",
    "    # train the autoencoder\n",
    "    encoder.train_encoder(params)\n",
    "    \n",
    "    # reconstruct the noisy signals\n",
    "    encoder.reconstruct(params)\n",
    "    \n",
    "    # store the reconstructed/noisy signals\n",
    "    if STORE:\n",
    "        encoder.store_results(params)\n",
    "    \n",
    "    reset_keras(encoder.model)\n",
    "    del encoder.history\n",
    "    gc.collect()\n",
    "    \n",
    "    \n",
    "from keras.backend.tensorflow_backend import set_session\n",
    "from keras.backend.tensorflow_backend import clear_session\n",
    "from keras.backend.tensorflow_backend import get_session\n",
    "import tensorflow\n",
    "import gc\n",
    "# Reset Keras Session\n",
    "def reset_keras(model=None):\n",
    "    sess = get_session()\n",
    "    clear_session()\n",
    "    sess.close()\n",
    "    sess = get_session()\n",
    "\n",
    "    try:\n",
    "        del model # this is from global space - change this as you need\n",
    "    except:\n",
    "        pass\n",
    "\n",
    "    print(gc.collect()) # if it's done something you should see a number being outputted\n",
    "\n",
    "    # use the same config as you used to create the session\n",
    "    config = tensorflow.ConfigProto()\n",
    "    config.gpu_options.per_process_gpu_memory_fraction = 1\n",
    "    config.gpu_options.visible_device_list = \"0\"\n",
    "    set_session(tensorflow.Session(config=config))"
   ]
  },
  {
   "cell_type": "code",
   "execution_count": 3,
   "metadata": {},
   "outputs": [
    {
     "name": "stdout",
     "output_type": "stream",
     "text": [
      "72\n"
     ]
    },
    {
     "ename": "FileNotFoundError",
     "evalue": "[Errno 2] No such file or directory: 'cinc17/train.json'",
     "output_type": "error",
     "traceback": [
      "\u001b[0;31m---------------------------------------------------------------------------\u001b[0m",
      "\u001b[0;31mFileNotFoundError\u001b[0m                         Traceback (most recent call last)",
      "\u001b[0;32m<ipython-input-3-6587d7653b64>\u001b[0m in \u001b[0;36m<module>\u001b[0;34m\u001b[0m\n\u001b[1;32m     44\u001b[0m                 \u001b[0;32mif\u001b[0m \u001b[0mAUTO_ENCODER\u001b[0m \u001b[0;34m==\u001b[0m \u001b[0;32mTrue\u001b[0m\u001b[0;34m:\u001b[0m\u001b[0;34m\u001b[0m\u001b[0;34m\u001b[0m\u001b[0m\n\u001b[1;32m     45\u001b[0m                     \u001b[0mreset_keras\u001b[0m\u001b[0;34m(\u001b[0m\u001b[0;34m)\u001b[0m\u001b[0;34m\u001b[0m\u001b[0;34m\u001b[0m\u001b[0m\n\u001b[0;32m---> 46\u001b[0;31m                     \u001b[0mrun_autoencoder\u001b[0m\u001b[0;34m(\u001b[0m\u001b[0mparams\u001b[0m\u001b[0;34m)\u001b[0m\u001b[0;34m\u001b[0m\u001b[0;34m\u001b[0m\u001b[0m\n\u001b[0m",
      "\u001b[0;32m<ipython-input-1-0b5e247ad68f>\u001b[0m in \u001b[0;36mrun_autoencoder\u001b[0;34m(params)\u001b[0m\n\u001b[1;32m     15\u001b[0m \u001b[0;32mdef\u001b[0m \u001b[0mrun_autoencoder\u001b[0m\u001b[0;34m(\u001b[0m\u001b[0mparams\u001b[0m\u001b[0;34m)\u001b[0m\u001b[0;34m:\u001b[0m\u001b[0;34m\u001b[0m\u001b[0;34m\u001b[0m\u001b[0m\n\u001b[1;32m     16\u001b[0m     \u001b[0mencoder\u001b[0m \u001b[0;34m=\u001b[0m \u001b[0mrobust_autoencoder\u001b[0m\u001b[0;34m.\u001b[0m\u001b[0mRobustAutoencoder\u001b[0m\u001b[0;34m(\u001b[0m\u001b[0;34m)\u001b[0m\u001b[0;34m\u001b[0m\u001b[0;34m\u001b[0m\u001b[0m\n\u001b[0;32m---> 17\u001b[0;31m     \u001b[0mencoder\u001b[0m\u001b[0;34m.\u001b[0m\u001b[0mtrain_scaled\u001b[0m \u001b[0;34m=\u001b[0m \u001b[0mencoder\u001b[0m\u001b[0;34m.\u001b[0m\u001b[0mload_dataset\u001b[0m\u001b[0;34m(\u001b[0m\u001b[0mparams\u001b[0m\u001b[0;34m[\u001b[0m\u001b[0;34m'data_json'\u001b[0m\u001b[0;34m]\u001b[0m\u001b[0;34m)\u001b[0m\u001b[0;31m#train[0]: ecg_data train[1]: labels\u001b[0m\u001b[0;34m\u001b[0m\u001b[0;34m\u001b[0m\u001b[0m\n\u001b[0m\u001b[1;32m     18\u001b[0m     \u001b[0mencoder\u001b[0m\u001b[0;34m.\u001b[0m\u001b[0mdev_scaled\u001b[0m \u001b[0;34m=\u001b[0m \u001b[0mencoder\u001b[0m\u001b[0;34m.\u001b[0m\u001b[0mload_dataset\u001b[0m\u001b[0;34m(\u001b[0m\u001b[0mparams\u001b[0m\u001b[0;34m[\u001b[0m\u001b[0;34m'dev_json'\u001b[0m\u001b[0;34m]\u001b[0m\u001b[0;34m)\u001b[0m\u001b[0;34m\u001b[0m\u001b[0;34m\u001b[0m\u001b[0m\n\u001b[1;32m     19\u001b[0m \u001b[0;34m\u001b[0m\u001b[0m\n",
      "\u001b[0;32m~/Github/ecg_nm/robust_autoencoder.py\u001b[0m in \u001b[0;36mload_dataset\u001b[0;34m(self, data_json)\u001b[0m\n\u001b[1;32m     93\u001b[0m         '''\n\u001b[1;32m     94\u001b[0m         \u001b[0;32mimport\u001b[0m \u001b[0mtqdm\u001b[0m\u001b[0;34m\u001b[0m\u001b[0;34m\u001b[0m\u001b[0m\n\u001b[0;32m---> 95\u001b[0;31m         \u001b[0;32mwith\u001b[0m \u001b[0mopen\u001b[0m\u001b[0;34m(\u001b[0m\u001b[0mdata_json\u001b[0m\u001b[0;34m,\u001b[0m \u001b[0;34m'r'\u001b[0m\u001b[0;34m)\u001b[0m \u001b[0;32mas\u001b[0m \u001b[0mfid\u001b[0m\u001b[0;34m:\u001b[0m\u001b[0;34m\u001b[0m\u001b[0;34m\u001b[0m\u001b[0m\n\u001b[0m\u001b[1;32m     96\u001b[0m             \u001b[0mdata\u001b[0m \u001b[0;34m=\u001b[0m \u001b[0;34m[\u001b[0m\u001b[0mjson\u001b[0m\u001b[0;34m.\u001b[0m\u001b[0mloads\u001b[0m\u001b[0;34m(\u001b[0m\u001b[0ml\u001b[0m\u001b[0;34m)\u001b[0m \u001b[0;32mfor\u001b[0m \u001b[0ml\u001b[0m \u001b[0;32min\u001b[0m \u001b[0mfid\u001b[0m\u001b[0;34m]\u001b[0m\u001b[0;31m# just load the filename in data\u001b[0m\u001b[0;34m\u001b[0m\u001b[0;34m\u001b[0m\u001b[0m\n\u001b[1;32m     97\u001b[0m         \u001b[0mlabels\u001b[0m \u001b[0;34m=\u001b[0m \u001b[0;34m[\u001b[0m\u001b[0;34m]\u001b[0m\u001b[0;34m;\u001b[0m \u001b[0mecgs\u001b[0m \u001b[0;34m=\u001b[0m \u001b[0;34m[\u001b[0m\u001b[0;34m]\u001b[0m\u001b[0;34m\u001b[0m\u001b[0;34m\u001b[0m\u001b[0m\n",
      "\u001b[0;31mFileNotFoundError\u001b[0m: [Errno 2] No such file or directory: 'cinc17/train.json'"
     ]
    }
   ],
   "source": [
    "## inspect save data\n",
    "AUTO_ENCODER = True\n",
    "# initial parmas\n",
    "tran_json_prefix = ['_train_recon','_train']\n",
    "dev_json_prefix = ['_dev_recon','_dev']\n",
    "params = {\n",
    "    'data_json': \"cinc17/train.json\",\n",
    "    'dev_json': \"cinc17/dev.json\",\n",
    "    'des_snr' : 20,\n",
    "    'noisy_type': 4, #0:gaussian 1: cauchy 4:mix of 1,2\n",
    "    'train_type': 1, #0: clean-clean 1: noisy-clean 2: noisy-noisy\n",
    "    'loss': 'mcc',\n",
    "    'MAX_EPOCHS': 80,\n",
    "    'batch_size': 256,\n",
    "    'input_size': 256,\n",
    "    'hidden_size': 64,\n",
    "    'lr': 0.01,\n",
    "    'lambda_w': 4e-5\n",
    "         }\n",
    "db_list =  [5, 40]\n",
    "loss_list = ['mcc']\n",
    "noisy_type = [4]\n",
    "\n",
    "for noise in noisy_type:\n",
    "        for loss in loss_list:\n",
    "            train_jsons = []\n",
    "            dev_jsons = []\n",
    "            experiments = []\n",
    "            for db in db_list:\n",
    "                params['noisy_type'] = noise\n",
    "                params['des_snr'] = db\n",
    "                params['loss'] = loss\n",
    "                # update file path based on params\n",
    "                params['store_data_folder'] = 'cinc17/mcc_transformed/'\n",
    "                params['experiment_name'] = 'noisy'+str(params['noisy_type'])+'_db'+str(params['des_snr'])+'_'+params['loss']\n",
    "                params['model_name'] = 'autoencoder_model/'+'train'+ str(params['train_type'])+'_'+params['experiment_name']+ '_autoencoder.h5'\n",
    "                params['store_json'] = 'cinc17/'+params['experiment_name']\n",
    "                for t,d in zip(tran_json_prefix, dev_json_prefix):\n",
    "                    train_jsons.append(params['store_json'] + t +'.json')\n",
    "                    dev_jsons.append(params['store_json'] + d +'.json')\n",
    "                    experiments.append(params['experiment_name']+t+d)\n",
    "\n",
    "                # run auto_encoder\n",
    "                if AUTO_ENCODER == True:\n",
    "                    reset_keras()\n",
    "                    run_autoencoder(params)"
   ]
  }
 ],
 "metadata": {
  "kernelspec": {
   "display_name": "Python 3",
   "language": "python",
   "name": "python3"
  },
  "language_info": {
   "codemirror_mode": {
    "name": "ipython",
    "version": 3
   },
   "file_extension": ".py",
   "mimetype": "text/x-python",
   "name": "python",
   "nbconvert_exporter": "python",
   "pygments_lexer": "ipython3",
   "version": "3.7.4"
  }
 },
 "nbformat": 4,
 "nbformat_minor": 4
}
